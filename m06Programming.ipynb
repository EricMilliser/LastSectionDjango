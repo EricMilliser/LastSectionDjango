{
 "cells": [
  {
   "cell_type": "markdown",
   "id": "afba9ec8-3394-4423-960e-a11c93b3ccae",
   "metadata": {},
   "source": [
    "## 13.1 Write the current date as a string to the text file today.txt."
   ]
  },
  {
   "cell_type": "code",
   "execution_count": null,
   "id": "8378196c-a2a5-48d1-9393-e45a1e12a82b",
   "metadata": {},
   "outputs": [],
   "source": [
    "\"2024-05-10\""
   ]
  },
  {
   "cell_type": "markdown",
   "id": "6d1cd3dd-005b-46c1-b4ff-c1939157c840",
   "metadata": {},
   "source": [
    "## 13.2 Read the text file today.txt into the string today_string."
   ]
  },
  {
   "cell_type": "code",
   "execution_count": 1,
   "id": "4bf83292-34f5-4a4d-99dd-d8885c7acbcd",
   "metadata": {},
   "outputs": [
    {
     "ename": "SyntaxError",
     "evalue": "unterminated string literal (detected at line 10) (3545513144.py, line 10)",
     "output_type": "error",
     "traceback": [
      "\u001b[1;36m  Cell \u001b[1;32mIn[1], line 10\u001b[1;36m\u001b[0m\n\u001b[1;33m    print(f\"String: {today_string})\u001b[0m\n\u001b[1;37m          ^\u001b[0m\n\u001b[1;31mSyntaxError\u001b[0m\u001b[1;31m:\u001b[0m unterminated string literal (detected at line 10)\n"
     ]
    }
   ],
   "source": [
    "from datetime import datetime\n",
    "\n",
    "file = \"today.txt\"\n",
    "\n",
    "dateForm = \"%Y-%m-%d\"\n",
    "\n",
    "try:\n",
    "    with open(file, 'r') as file:\n",
    "        today_string = file.read().strip()\n",
    "        print(f\"String: {today_string}\")"
   ]
  },
  {
   "cell_type": "markdown",
   "id": "99c25808-2093-4607-ad21-6e96b174b391",
   "metadata": {},
   "source": [
    "## 13.3 Parse the date from today_string."
   ]
  },
  {
   "cell_type": "code",
   "execution_count": null,
   "id": "8d6f929b-b2bb-47e5-9498-b641f6e9e83a",
   "metadata": {},
   "outputs": [],
   "source": [
    "from datetime import datetime\n",
    "\n",
    "file = \"today.txt\"\n",
    "\n",
    "dateForm = \"%Y-%m-%d\"\n",
    "\n",
    "try:\n",
    "    with open(file, 'r') as file:\n",
    "        today_string = file.read().strip()\n",
    "        print(f\"String: {today_string}\")\n",
    "\n",
    "\n",
    "date = datetime.strptime(today_string, dateForm)\n",
    "print(f\"The date is: {date}\")"
   ]
  },
  {
   "cell_type": "markdown",
   "id": "fe36cf1e-5882-43dc-93ae-d591b79da4f8",
   "metadata": {},
   "source": [
    "## 15.1 Use multiprocessing to create three separate processes. Make each one wait a random number of seconds between zero and one, print the current time, and then exit."
   ]
  },
  {
   "cell_type": "code",
   "execution_count": 6,
   "id": "a0f73531-29ee-48f7-a736-39a8fd834d37",
   "metadata": {},
   "outputs": [],
   "source": [
    "import multiprocessing\n",
    "import time\n",
    "import datetime\n",
    "import random\n",
    "\n",
    "def work():\n",
    "    rest = random.random()\n",
    "    time.sleep(rest)\n",
    "    currentTime = datetime.datetime.now()\n",
    "    print(f\"Multiprocessor ID: {multiprocessing.current_process().pid} Acted at: {currentTime}\")\n",
    "\n",
    "\n",
    "if __name__ == \"__main__\":\n",
    "    processes = []\n",
    "    for _ in range(3):\n",
    "        p = multiprocessing.Process(target=work)\n",
    "        processes.append(p)\n",
    "        p.start()\n",
    "\n",
    "    for p in processes:\n",
    "        p.join()"
   ]
  },
  {
   "cell_type": "code",
   "execution_count": null,
   "id": "331107ef-5f26-4026-93d1-c3983034ecdd",
   "metadata": {},
   "outputs": [],
   "source": []
  }
 ],
 "metadata": {
  "kernelspec": {
   "display_name": "Python 3 (ipykernel)",
   "language": "python",
   "name": "python3"
  },
  "language_info": {
   "codemirror_mode": {
    "name": "ipython",
    "version": 3
   },
   "file_extension": ".py",
   "mimetype": "text/x-python",
   "name": "python",
   "nbconvert_exporter": "python",
   "pygments_lexer": "ipython3",
   "version": "3.11.7"
  }
 },
 "nbformat": 4,
 "nbformat_minor": 5
}
